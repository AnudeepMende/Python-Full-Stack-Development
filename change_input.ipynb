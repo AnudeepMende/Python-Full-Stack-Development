{
  "nbformat": 4,
  "nbformat_minor": 0,
  "metadata": {
    "colab": {
      "name": "change input.ipynb",
      "provenance": [],
      "authorship_tag": "ABX9TyNWVlHAWMbl0Vn/0DHi4fC2",
      "include_colab_link": true
    },
    "kernelspec": {
      "name": "python3",
      "display_name": "Python 3"
    },
    "language_info": {
      "name": "python"
    }
  },
  "cells": [
    {
      "cell_type": "markdown",
      "metadata": {
        "id": "view-in-github",
        "colab_type": "text"
      },
      "source": [
        "<a href=\"https://colab.research.google.com/github/AnudeepMende/Python-Full-Stack-Development/blob/main/change_input.ipynb\" target=\"_parent\"><img src=\"https://colab.research.google.com/assets/colab-badge.svg\" alt=\"Open In Colab\"/></a>"
      ]
    },
    {
      "cell_type": "code",
      "execution_count": 7,
      "metadata": {
        "colab": {
          "base_uri": "https://localhost:8080/"
        },
        "id": "dj9ghpe3r2v9",
        "outputId": "4be9dcb5-a76f-44ef-d902-ba3bd511296e"
      },
      "outputs": [
        {
          "output_type": "stream",
          "name": "stdout",
          "text": [
            "a\n"
          ]
        }
      ],
      "source": [
        "n_list = [\"Happy\",[2,0,1,5]]\n",
        "print(n_list[0][1])"
      ]
    },
    {
      "cell_type": "code",
      "source": [
        "list1=[\"apple\",\"banana\",\"cherry\"]\n",
        "print(list1)"
      ],
      "metadata": {
        "colab": {
          "base_uri": "https://localhost:8080/"
        },
        "id": "c_dn6T2kuk8W",
        "outputId": "b124e4ed-f70c-4fc6-e639-f9a51ee64579"
      },
      "execution_count": 8,
      "outputs": [
        {
          "output_type": "stream",
          "name": "stdout",
          "text": [
            "['apple', 'banana', 'cherry']\n"
          ]
        }
      ]
    },
    {
      "cell_type": "code",
      "source": [
        "list2=[1,2,3,4]\n",
        "print(list2)"
      ],
      "metadata": {
        "colab": {
          "base_uri": "https://localhost:8080/"
        },
        "id": "CcpDr45Qu3-X",
        "outputId": "b4d7815d-b155-4e6c-f35c-dc0654a0f9dc"
      },
      "execution_count": 9,
      "outputs": [
        {
          "output_type": "stream",
          "name": "stdout",
          "text": [
            "[1, 2, 3, 4]\n"
          ]
        }
      ]
    },
    {
      "cell_type": "code",
      "source": [
        "list3=[1,\"hello\",3.4]\n",
        "print(list3)"
      ],
      "metadata": {
        "colab": {
          "base_uri": "https://localhost:8080/"
        },
        "id": "fVoLaBkCvGql",
        "outputId": "891522b9-7784-47b6-9649-cc713967e7ef"
      },
      "execution_count": 10,
      "outputs": [
        {
          "output_type": "stream",
          "name": "stdout",
          "text": [
            "[1, 'hello', 3.4]\n"
          ]
        }
      ]
    },
    {
      "cell_type": "code",
      "source": [
        "odd=[2,4,6,8]\n",
        "#change the 1st item\n",
        "odd[0]=1\n",
        "print(odd)"
      ],
      "metadata": {
        "colab": {
          "base_uri": "https://localhost:8080/"
        },
        "id": "YdxQ9ZHwwSWT",
        "outputId": "29d5b1b6-b74e-477e-b9f5-02e929c8568d"
      },
      "execution_count": 11,
      "outputs": [
        {
          "output_type": "stream",
          "name": "stdout",
          "text": [
            "[1, 4, 6, 8]\n"
          ]
        }
      ]
    },
    {
      "cell_type": "code",
      "source": [
        "my_list=['p','q','r','s','t']\n",
        "print(my_list[0])"
      ],
      "metadata": {
        "id": "9zxg06QUWBPa",
        "outputId": "2d886699-5007-4d72-f39f-db8967d4dc22",
        "colab": {
          "base_uri": "https://localhost:8080/"
        }
      },
      "execution_count": 1,
      "outputs": [
        {
          "output_type": "stream",
          "name": "stdout",
          "text": [
            "p\n"
          ]
        }
      ]
    },
    {
      "cell_type": "code",
      "source": [
        "print(my_list[1])"
      ],
      "metadata": {
        "id": "61xBkyKqWrv5",
        "outputId": "1c2a28fa-8335-4bc1-9c08-a8c4273dc118",
        "colab": {
          "base_uri": "https://localhost:8080/"
        }
      },
      "execution_count": 13,
      "outputs": [
        {
          "output_type": "stream",
          "name": "stdout",
          "text": [
            "q\n"
          ]
        }
      ]
    },
    {
      "cell_type": "code",
      "source": [
        "print(my_list[0][1])"
      ],
      "metadata": {
        "id": "RK4pdgy5XJ_4",
        "outputId": "bc8acd82-1793-4a96-8b50-89ca24f929b1",
        "colab": {
          "base_uri": "https://localhost:8080/",
          "height": 165
        }
      },
      "execution_count": 14,
      "outputs": [
        {
          "output_type": "error",
          "ename": "IndexError",
          "evalue": "ignored",
          "traceback": [
            "\u001b[0;31m---------------------------------------------------------------------------\u001b[0m",
            "\u001b[0;31mIndexError\u001b[0m                                Traceback (most recent call last)",
            "\u001b[0;32m<ipython-input-14-e3efa05bc206>\u001b[0m in \u001b[0;36m<module>\u001b[0;34m()\u001b[0m\n\u001b[0;32m----> 1\u001b[0;31m \u001b[0mprint\u001b[0m\u001b[0;34m(\u001b[0m\u001b[0mmy_list\u001b[0m\u001b[0;34m[\u001b[0m\u001b[0;36m0\u001b[0m\u001b[0;34m]\u001b[0m\u001b[0;34m[\u001b[0m\u001b[0;36m1\u001b[0m\u001b[0;34m]\u001b[0m\u001b[0;34m)\u001b[0m\u001b[0;34m\u001b[0m\u001b[0;34m\u001b[0m\u001b[0m\n\u001b[0m",
            "\u001b[0;31mIndexError\u001b[0m: string index out of range"
          ]
        }
      ]
    },
    {
      "cell_type": "code",
      "source": [
        "print(my_list[-5])"
      ],
      "metadata": {
        "id": "07sMVNDpXZtV",
        "outputId": "9da3e896-c8c0-4c13-a65e-0c673460e356",
        "colab": {
          "base_uri": "https://localhost:8080/"
        }
      },
      "execution_count": 15,
      "outputs": [
        {
          "output_type": "stream",
          "name": "stdout",
          "text": [
            "p\n"
          ]
        }
      ]
    },
    {
      "cell_type": "code",
      "source": [
        "print(my_list[-1])"
      ],
      "metadata": {
        "id": "yLy6XBiBXeIL",
        "outputId": "ff3fee35-02c3-4e89-ba8d-64b23b6136ff",
        "colab": {
          "base_uri": "https://localhost:8080/"
        }
      },
      "execution_count": 17,
      "outputs": [
        {
          "output_type": "stream",
          "name": "stdout",
          "text": [
            "t\n"
          ]
        }
      ]
    },
    {
      "cell_type": "code",
      "source": [
        "print(my_list[1:3])"
      ],
      "metadata": {
        "id": "E_5soL5OXn1E",
        "outputId": "4d4ffa7d-ac31-4719-99e8-9cb464d65b0d",
        "colab": {
          "base_uri": "https://localhost:8080/"
        }
      },
      "execution_count": 18,
      "outputs": [
        {
          "output_type": "stream",
          "name": "stdout",
          "text": [
            "['q', 'r']\n"
          ]
        }
      ]
    },
    {
      "cell_type": "code",
      "source": [
        "print(my_list[2:])"
      ],
      "metadata": {
        "id": "AjNlSTxoX3_G",
        "outputId": "ff0cf3d2-9110-47ab-984c-bce31c31cc8e",
        "colab": {
          "base_uri": "https://localhost:8080/"
        }
      },
      "execution_count": 19,
      "outputs": [
        {
          "output_type": "stream",
          "name": "stdout",
          "text": [
            "['r', 's', 't']\n"
          ]
        }
      ]
    },
    {
      "cell_type": "code",
      "source": [
        "print(my_list[:])"
      ],
      "metadata": {
        "id": "1tcoc3bdYC53",
        "outputId": "a27d530b-500b-4b30-dc14-dd74082818bb",
        "colab": {
          "base_uri": "https://localhost:8080/"
        }
      },
      "execution_count": 20,
      "outputs": [
        {
          "output_type": "stream",
          "name": "stdout",
          "text": [
            "['p', 'q', 'r', 's', 't']\n"
          ]
        }
      ]
    }
  ]
}