{
  "nbformat": 4,
  "nbformat_minor": 0,
  "metadata": {
    "colab": {
      "name": "membership set.ipynb",
      "provenance": [],
      "authorship_tag": "ABX9TyNl7ppukcNqK6a4PuAs+iHR",
      "include_colab_link": true
    },
    "kernelspec": {
      "name": "python3",
      "display_name": "Python 3"
    },
    "language_info": {
      "name": "python"
    }
  },
  "cells": [
    {
      "cell_type": "markdown",
      "metadata": {
        "id": "view-in-github",
        "colab_type": "text"
      },
      "source": [
        "<a href=\"https://colab.research.google.com/github/AnudeepMende/Python-Full-Stack-Development/blob/main/membership_set.ipynb\" target=\"_parent\"><img src=\"https://colab.research.google.com/assets/colab-badge.svg\" alt=\"Open In Colab\"/></a>"
      ]
    },
    {
      "cell_type": "code",
      "execution_count": 2,
      "metadata": {
        "colab": {
          "base_uri": "https://localhost:8080/"
        },
        "id": "4OmcL5jkITOW",
        "outputId": "2b3b6b09-4fe9-4958-af54-75dd0dfa1c30"
      },
      "outputs": [
        {
          "output_type": "stream",
          "name": "stdout",
          "text": [
            "True\n",
            "False\n"
          ]
        }
      ],
      "source": [
        "my_set=set(\"apple\")\n",
        "print('a' in my_set)\n",
        "print('p' not in my_set)"
      ]
    },
    {
      "cell_type": "code",
      "source": [
        "A={1,2,3,4,5}\n",
        "B={4,5,6,7,8}\n",
        "print('Union =', A|B)\n",
        "print('Intersection =', A&B)\n",
        "print('Difference =', A-B)\n",
        "print('Symmetric Diff =', A^B)\n"
      ],
      "metadata": {
        "colab": {
          "base_uri": "https://localhost:8080/"
        },
        "id": "gMAfamiWIT7e",
        "outputId": "31d65546-e06b-4db6-a5ca-6ef74cb0e30b"
      },
      "execution_count": 3,
      "outputs": [
        {
          "output_type": "stream",
          "name": "stdout",
          "text": [
            "Union = {1, 2, 3, 4, 5, 6, 7, 8}\n",
            "Intersection = {4, 5}\n",
            "Difference = {1, 2, 3}\n",
            "Symmetric Diff = {1, 2, 3, 6, 7, 8}\n"
          ]
        }
      ]
    },
    {
      "cell_type": "code",
      "source": [
        "studentList = {'danish','jaison','sangeetha','uma','amrutha','lohita','prasad','ashwath'}\n",
        "placedStudList = [\"uma\",\"danish\",\"amrutha\"]\n",
        "notPlacedStudList = set(studentList) - set(placedStudList)\n",
        "print(\"Students yet to get job \\n\",notPlacedStudList)"
      ],
      "metadata": {
        "colab": {
          "base_uri": "https://localhost:8080/"
        },
        "id": "bc_zTpBTNmLR",
        "outputId": "98a39423-b40a-4a74-de83-bc74b7ac1ed9"
      },
      "execution_count": 6,
      "outputs": [
        {
          "output_type": "stream",
          "name": "stdout",
          "text": [
            "Students yet to get job \n",
            " {'sangeetha', 'lohita', 'jaison', 'prasad', 'ashwath'}\n"
          ]
        }
      ]
    }
  ]
}